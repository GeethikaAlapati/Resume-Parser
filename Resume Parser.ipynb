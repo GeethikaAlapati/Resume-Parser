{
 "cells": [
  {
   "cell_type": "code",
   "execution_count": 5,
   "id": "305ca38a",
   "metadata": {},
   "outputs": [
    {
     "name": "stderr",
     "output_type": "stream",
     "text": [
      "[nltk_data] Downloading package stopwords to\n",
      "[nltk_data]     C:\\Users\\geeth\\AppData\\Roaming\\nltk_data...\n",
      "[nltk_data]   Package stopwords is already up-to-date!\n"
     ]
    },
    {
     "name": "stdout",
     "output_type": "stream",
     "text": [
      "This candidate is suitable for the job.\n"
     ]
    }
   ],
   "source": [
    "import nltk\n",
    "from nltk.corpus import stopwords\n",
    "from nltk.tokenize import word_tokenize\n",
    "import pdfplumber\n",
    "\n",
    "def parse_resume(resume_path):\n",
    "    # Load NLTK resources\n",
    "    nltk.download('stopwords')\n",
    "    nltk.download('punkt', quiet=True)\n",
    "\n",
    "    # Set up stopwords\n",
    "    stop_words = set(stopwords.words('english'))\n",
    "\n",
    "    # Extract text from the resume PDF\n",
    "    with pdfplumber.open(resume_path) as pdf:\n",
    "        text = \"\"\n",
    "        for page in pdf.pages:\n",
    "            text += page.extract_text()\n",
    "\n",
    "    # Tokenize the text\n",
    "    tokens = word_tokenize(text.lower())\n",
    "\n",
    "    # Filter out stopwords\n",
    "    filtered_tokens = [token for token in tokens if token.isalnum() and token.lower() not in stop_words]\n",
    "\n",
    "    # Define the job-specific keywords\n",
    "    job_keywords = ['python', 'machine learning', 'data analysis', 'programming', 'deep learning']\n",
    "\n",
    "    # Check if the resume contains the job-specific keywords\n",
    "    matched_keywords = [keyword for keyword in job_keywords if keyword in filtered_tokens]\n",
    "\n",
    "    return len(matched_keywords) > 0\n",
    "\n",
    "# Example usage\n",
    "resume_path = 'C:\\\\Users\\\\geeth\\\\OneDrive\\\\Documents\\\\resume.pdf'\n",
    "is_match = parse_resume(resume_path)\n",
    "\n",
    "if is_match:\n",
    "    print(\"This candidate is suitable for the job.\")\n",
    "else:\n",
    "    print(\"This candidate is not a match for the job.\")"
   ]
  },
  {
   "cell_type": "code",
   "execution_count": null,
   "id": "c3014d4c",
   "metadata": {},
   "outputs": [],
   "source": []
  }
 ],
 "metadata": {
  "kernelspec": {
   "display_name": "Python 3 (ipykernel)",
   "language": "python",
   "name": "python3"
  },
  "language_info": {
   "codemirror_mode": {
    "name": "ipython",
    "version": 3
   },
   "file_extension": ".py",
   "mimetype": "text/x-python",
   "name": "python",
   "nbconvert_exporter": "python",
   "pygments_lexer": "ipython3",
   "version": "3.9.12"
  }
 },
 "nbformat": 4,
 "nbformat_minor": 5
}
